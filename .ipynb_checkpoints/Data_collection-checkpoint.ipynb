{
 "cells": [
  {
   "cell_type": "code",
   "execution_count": 2,
   "id": "6eca56b4",
   "metadata": {},
   "outputs": [],
   "source": [
    "import mediapipe as mp\n",
    "import numpy as np\n",
    "import cv2 as cv"
   ]
  },
  {
   "cell_type": "code",
   "execution_count": 11,
   "id": "47447d60",
   "metadata": {},
   "outputs": [
    {
     "name": "stdout",
     "output_type": "stream",
     "text": [
      "Asked for all format descriptions...\n",
      "[setting] Setting kCMIODevicePropertyDeviceMaster to 51845\n",
      "[setting] Setting kCMIOStreamPropertyFormatDescription\n",
      "Got new format : 1920x1080\n",
      "Asked for all format descriptions...\n",
      "[setting] Setting kCMIODevicePropertyDeviceMaster to -1\n",
      "[setting] Setting kCMIODevicePropertyDeviceMaster to 51845\n",
      "[setting] Setting kCMIODevicePropertyDeviceMaster to -1\n",
      "Asked for all format descriptions...\n",
      "Enter the name of the dataB\n",
      "[RemoteFrameSource] Releasing RemoteFrameSource\n",
      "(500, 84)\n"
     ]
    }
   ],
   "source": [
    "cap = cv.VideoCapture(0)\n",
    "name = input(\"Enter the name of the data\")\n",
    "holistic = mp.solutions.holistic\n",
    "hands = mp.solutions.hands\n",
    "pose = mp.solutions.pose\n",
    "holis = holistic.Holistic()\n",
    "drawing = mp.solutions.drawing_utils\n",
    "\n",
    "X = []\n",
    "data_size=0\n",
    "while True:\n",
    "    lst = []\n",
    "    _,fm = cap.read()\n",
    "    \n",
    "    fm = cv.flip(fm,1)\n",
    "    res = holis.process(cv.cvtColor(fm,cv.COLOR_BGR2RGB))\n",
    "#     if res.face_landmarks:\n",
    "#         for i in range(len(res.face_landmarks.landmark)):\n",
    "#             lst.append(i.x - res.face_landmarks.landmark.x)\n",
    "#             lst.append(i.y - res.face_landmarks.landmark.y)\n",
    "#     if res.pose_landmarks:\n",
    "#         for i in range(ln(res.pose_landmarks.landmark)):\n",
    "#             lst.append(i.x - res.face_landmarks.landmark.x)\n",
    "#             lst.append(i.y - res.face_landmarks.landmark.y)\n",
    "            \n",
    "    if res.left_hand_landmarks:\n",
    "        for i in res.left_hand_landmarks.landmark:\n",
    "            lst.append(i.x - res.left_hand_landmarks.landmark[8].x)\n",
    "            lst.append(i.y - res.left_hand_landmarks.landmark[8].y)\n",
    "    else:\n",
    "        for i in range(42):\n",
    "            lst.append(0.0)\n",
    "            \n",
    "    if res.right_hand_landmarks:\n",
    "        for i in res.right_hand_landmarks.landmark:\n",
    "            lst.append(i.x - res.right_hand_landmarks.landmark[8].x)\n",
    "            lst.append(i.y - res.right_hand_landmarks.landmark[8].y)\n",
    "    else:\n",
    "        for i in range(42):\n",
    "            lst.append(0.0)\n",
    "    X.append(lst)\n",
    "    data_size = data_size + 1\n",
    "    \n",
    "    res = holis.process(cv.cvtColor(fm,cv.COLOR_BGR2RGB))\n",
    "    \n",
    "#     drawing.draw_landmarks(fm,res.pose_landmarks,holistic.POSE_CONNECTIONS)\n",
    "#     drawing.draw_landmarks(fm,res.face_landmarks,holistic.FACEMESH_CONTOURS)\n",
    "    drawing.draw_landmarks(fm,res.left_hand_landmarks,holistic.HAND_CONNECTIONS)\n",
    "    drawing.draw_landmarks(fm,res.right_hand_landmarks,holistic.HAND_CONNECTIONS)\n",
    "    \n",
    "    \n",
    "    cv.putText(fm,str(data_size),(50,50),cv.FONT_HERSHEY_SIMPLEX,1,(0,255,0),2)\n",
    "    \n",
    "    cv.imshow('window',fm)\n",
    "    \n",
    "    if cv.waitKey(1)==27 or  data_size > 499:\n",
    "        cv.destroyAllWindows()\n",
    "        cv.waitKey(1)\n",
    "        cap.release()\n",
    "        break\n",
    "np.save(f\"{name}.npy\",np.array(X))\n",
    "print(np.array(X).shape)"
   ]
  },
  {
   "cell_type": "code",
   "execution_count": null,
   "id": "2b29d77d",
   "metadata": {},
   "outputs": [],
   "source": []
  }
 ],
 "metadata": {
  "kernelspec": {
   "display_name": "Python 3 (ipykernel)",
   "language": "python",
   "name": "python3"
  },
  "language_info": {
   "codemirror_mode": {
    "name": "ipython",
    "version": 3
   },
   "file_extension": ".py",
   "mimetype": "text/x-python",
   "name": "python",
   "nbconvert_exporter": "python",
   "pygments_lexer": "ipython3",
   "version": "3.7.16"
  }
 },
 "nbformat": 4,
 "nbformat_minor": 5
}
