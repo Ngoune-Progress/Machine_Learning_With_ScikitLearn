{
 "cells": [
  {
   "cell_type": "markdown",
   "id": "848882f2",
   "metadata": {},
   "source": [
    "# Resampling Methods\n",
    "- K-Fold cross-validation\n",
    "- Leave-one-out-cross-validation"
   ]
  },
  {
   "cell_type": "markdown",
   "id": "bf1dab4a",
   "metadata": {},
   "source": [
    "## k-Fold Cross-Validation"
   ]
  },
  {
   "cell_type": "code",
   "execution_count": 12,
   "id": "a3ef7d05",
   "metadata": {},
   "outputs": [],
   "source": [
    "from sklearn.model_selection import cross_val_score\n",
    "from sklearn.model_selection import KFold\n",
    "from sklearn.neighbors import KNeighborsClassifier\n",
    "from sklearn import datasets\n",
    "#Load dataset\n",
    "data = datasets.load_iris()\n",
    "X = data.data\n",
    "y = data.target\n",
    "\n",
    "## the dataset will be divided into 3 fold or parts\n",
    "kfold = KFold(n_splits=3,shuffle=True)\n",
    "## Create a model\n",
    "knn_clf = KNeighborsClassifier(n_neighbors=3)\n",
    "\n",
    "## fit the model using cross validation \n",
    "cv_result = cross_val_score(knn_clf,X,y,cv=kfold)"
   ]
  },
  {
   "cell_type": "code",
   "execution_count": 13,
   "id": "9ddeed4d",
   "metadata": {},
   "outputs": [
    {
     "data": {
      "text/plain": [
       "array([0.98, 0.98, 0.94])"
      ]
     },
     "execution_count": 13,
     "metadata": {},
     "output_type": "execute_result"
    }
   ],
   "source": [
    "cv_result"
   ]
  },
  {
   "cell_type": "code",
   "execution_count": 14,
   "id": "d17aee19",
   "metadata": {},
   "outputs": [
    {
     "name": "stdout",
     "output_type": "stream",
     "text": [
      "Accuracy: 0.9666666666666667\n"
     ]
    }
   ],
   "source": [
    "print(f\"Accuracy: {cv_result.mean()}\")"
   ]
  },
  {
   "cell_type": "markdown",
   "id": "11b0866e",
   "metadata": {},
   "source": [
    "## Leave-One-Out Cross-Validation (LOOCV)"
   ]
  },
  {
   "cell_type": "code",
   "execution_count": 15,
   "id": "57b041d5",
   "metadata": {},
   "outputs": [
    {
     "name": "stdout",
     "output_type": "stream",
     "text": [
      "Accuracy: 0.9666666666666667\n"
     ]
    }
   ],
   "source": [
    "from sklearn.model_selection import LeaveOneOut\n",
    "from sklearn.model_selection import cross_val_score\n",
    "from sklearn.neighbors import KNeighborsClassifier\n",
    "from sklearn import datasets\n",
    "## load data\n",
    "data = datasets.load_iris()\n",
    "X = data.data\n",
    "y = data.target\n",
    "leaveoneout = LeaveOneOut()\n",
    "Kneigbor = KNeighborsClassifier()\n",
    "cv_result = cross_val_score(Kneigbor,X,y,cv=leaveoneout)\n",
    "\n",
    "print(f\"Accuracy: {cv_result.mean()}\")"
   ]
  },
  {
   "cell_type": "code",
   "execution_count": null,
   "id": "b8a554a4",
   "metadata": {},
   "outputs": [],
   "source": []
  }
 ],
 "metadata": {
  "kernelspec": {
   "display_name": "Python 3 (ipykernel)",
   "language": "python",
   "name": "python3"
  },
  "language_info": {
   "codemirror_mode": {
    "name": "ipython",
    "version": 3
   },
   "file_extension": ".py",
   "mimetype": "text/x-python",
   "name": "python",
   "nbconvert_exporter": "python",
   "pygments_lexer": "ipython3",
   "version": "3.7.16"
  }
 },
 "nbformat": 4,
 "nbformat_minor": 5
}
